{
 "cells": [
  {
   "cell_type": "code",
   "execution_count": 1,
   "id": "f9538d32-9444-4ceb-a6ce-db3c3fe22ab8",
   "metadata": {},
   "outputs": [
    {
     "name": "stdout",
     "output_type": "stream",
     "text": [
      "Today's date: 2024-06-03\n",
      "--------Version info---------\n",
      "Polars:               0.20.31\n",
      "Index type:           UInt32\n",
      "Platform:             Linux-6.6.26-linuxkit-aarch64-with-glibc2.36\n",
      "Python:               3.9.19 (main, May 14 2024, 07:10:57) \n",
      "[GCC 12.2.0]\n",
      "\n",
      "----Optional dependencies----\n",
      "adbc_driver_manager:  <not installed>\n",
      "cloudpickle:          <not installed>\n",
      "connectorx:           <not installed>\n",
      "deltalake:            <not installed>\n",
      "fastexcel:            <not installed>\n",
      "fsspec:               <not installed>\n",
      "gevent:               <not installed>\n",
      "hvplot:               <not installed>\n",
      "matplotlib:           3.9.0\n",
      "nest_asyncio:         1.6.0\n",
      "numpy:                1.26.4\n",
      "openpyxl:             <not installed>\n",
      "pandas:               2.2.2\n",
      "pyarrow:              <not installed>\n",
      "pydantic:             <not installed>\n",
      "pyiceberg:            <not installed>\n",
      "pyxlsb:               <not installed>\n",
      "sqlalchemy:           <not installed>\n",
      "torch:                <not installed>\n",
      "xlsx2csv:             <not installed>\n",
      "xlsxwriter:           <not installed>\n"
     ]
    }
   ],
   "source": [
    "import polars as pl\n",
    "from datetime import date\n",
    "\n",
    "today = date.today()\n",
    "print(\"Today's date:\", today)\n",
    "\n",
    "pl.show_versions()"
   ]
  }
 ],
 "metadata": {
  "kernelspec": {
   "display_name": "Python 3 (ipykernel)",
   "language": "python",
   "name": "python3"
  },
  "language_info": {
   "codemirror_mode": {
    "name": "ipython",
    "version": 3
   },
   "file_extension": ".py",
   "mimetype": "text/x-python",
   "name": "python",
   "nbconvert_exporter": "python",
   "pygments_lexer": "ipython3",
   "version": "3.9.19"
  }
 },
 "nbformat": 4,
 "nbformat_minor": 5
}
